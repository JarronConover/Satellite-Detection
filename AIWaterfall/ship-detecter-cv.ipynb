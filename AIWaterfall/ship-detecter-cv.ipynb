{
 "cells": [
  {
   "cell_type": "code",
   "execution_count": null,
   "id": "06d114c5",
   "metadata": {
    "_cell_guid": "b1076dfc-b9ad-4769-8c92-a6c4dae69d19",
    "_uuid": "8f2839f25d086af736a60e9eeb907d3b93b6e0e5",
    "execution": {
     "iopub.execute_input": "2025-01-29T05:09:31.121291Z",
     "iopub.status.busy": "2025-01-29T05:09:31.120932Z",
     "iopub.status.idle": "2025-01-29T05:09:35.723374Z",
     "shell.execute_reply": "2025-01-29T05:09:35.722312Z"
    },
    "papermill": {
     "duration": 4.635404,
     "end_time": "2025-01-29T05:09:35.748224",
     "exception": false,
     "start_time": "2025-01-29T05:09:31.112820",
     "status": "completed"
    },
    "scrolled": true,
    "tags": []
   },
   "outputs": [
    {
     "ename": "",
     "evalue": "",
     "output_type": "error",
     "traceback": [
      "\u001b[1;31mRunning cells with 'Python 3.12.7' requires the ipykernel package.\n",
      "\u001b[1;31mRun the following command to install 'ipykernel' into the Python environment. \n",
      "\u001b[1;31mCommand: '/opt/homebrew/bin/python3.12 -m pip install ipykernel -U --user --force-reinstall'"
     ]
    }
   ],
   "source": [
    "##### This Python 3 environment comes with many helpful analytics libraries installed\n",
    "# It is defined by the kaggle/python Docker image: https://github.com/kaggle/docker-python\n",
    "# For example, here's several helpful packages to load\n",
    "\n",
    "import numpy as np # linear algebra\n",
    "import pandas as pd # data processing, CSV file I/O (e.g. pd.read_csv)\n",
    "\n",
    "# Input data files are available in the read-only \"../input/\" directory\n",
    "# For example, running this (by clicking run or pressing Shift+Enter) will list all files under the input directory\n",
    "\n",
    "import os\n",
    "count = 0\n",
    "for dirname, _, filenames in os.walk('/kaggle/input'):\n",
    "    for filename in filenames: \n",
    "        count += 1\n",
    "        #print(filename)\n",
    "print(\"There are \" + count + \" files in the input directory\")\n",
    "# You can write up to 20GB to the current directory (/kaggle/working/) that gets preserved as output when you create a version using \"Save & Run All\" \n",
    "# You can also write temporary files to /kaggle/temp/, but they won't be saved outside of the current session"
   ]
  },
  {
   "cell_type": "code",
   "execution_count": null,
   "id": "3bed43a9",
   "metadata": {
    "execution": {
     "iopub.execute_input": "2025-01-29T05:09:35.781093Z",
     "iopub.status.busy": "2025-01-29T05:09:35.780582Z",
     "iopub.status.idle": "2025-01-29T05:09:36.466541Z",
     "shell.execute_reply": "2025-01-29T05:09:36.465454Z"
    },
    "papermill": {
     "duration": 0.702993,
     "end_time": "2025-01-29T05:09:36.469021",
     "exception": false,
     "start_time": "2025-01-29T05:09:35.766028",
     "status": "completed"
    },
    "tags": []
   },
   "outputs": [],
   "source": [
    "import cv2 as cv\n",
    "import matplotlib.pyplot as plt\n",
    "\n",
    "plt.figure(figsize = (5,5))\n",
    "\n",
    "img = cv.imread('/kaggle/input/ships-in-satellite-imagery/shipsnet/shipsnet/1__20170618_180801_0f34__-122.34834288305811_37.74061313831539.png')\n",
    "# img = cv.imread('/kaggle/input/ships-in-satellite-imagery/shipsnet/shipsnet/0__20150718_184300_090b__-122.35324421973536_37.772113980272394.png')\n",
    "plt.imshow(img)\n"
   ]
  },
  {
   "cell_type": "code",
   "execution_count": null,
   "id": "0d74f0c7",
   "metadata": {
    "execution": {
     "iopub.execute_input": "2025-01-29T05:09:36.497835Z",
     "iopub.status.busy": "2025-01-29T05:09:36.497313Z",
     "iopub.status.idle": "2025-01-29T05:09:36.713844Z",
     "shell.execute_reply": "2025-01-29T05:09:36.712655Z"
    },
    "papermill": {
     "duration": 0.233387,
     "end_time": "2025-01-29T05:09:36.716119",
     "exception": false,
     "start_time": "2025-01-29T05:09:36.482732",
     "status": "completed"
    },
    "tags": []
   },
   "outputs": [],
   "source": [
    "imggray = cv.cvtColor(img, cv.COLOR_BGR2GRAY)\n",
    "plt.imshow(imggray)"
   ]
  },
  {
   "cell_type": "code",
   "execution_count": null,
   "id": "77e9f6fe",
   "metadata": {
    "papermill": {
     "duration": 0.014062,
     "end_time": "2025-01-29T05:09:36.744966",
     "exception": false,
     "start_time": "2025-01-29T05:09:36.730904",
     "status": "completed"
    },
    "tags": []
   },
   "outputs": [],
   "source": []
  },
  {
   "cell_type": "code",
   "execution_count": null,
   "id": "f629ade7",
   "metadata": {
    "execution": {
     "iopub.execute_input": "2025-01-29T05:09:36.775781Z",
     "iopub.status.busy": "2025-01-29T05:09:36.774926Z",
     "iopub.status.idle": "2025-01-29T05:09:36.986921Z",
     "shell.execute_reply": "2025-01-29T05:09:36.985851Z"
    },
    "papermill": {
     "duration": 0.229814,
     "end_time": "2025-01-29T05:09:36.988944",
     "exception": false,
     "start_time": "2025-01-29T05:09:36.759130",
     "status": "completed"
    },
    "tags": []
   },
   "outputs": [],
   "source": [
    "ret, thresh = cv.threshold(imggray,0,255,cv.THRESH_BINARY + cv.THRESH_OTSU)\n",
    "plt.imshow(thresh)"
   ]
  },
  {
   "cell_type": "code",
   "execution_count": null,
   "id": "102e1342",
   "metadata": {
    "execution": {
     "iopub.execute_input": "2025-01-29T05:09:37.019874Z",
     "iopub.status.busy": "2025-01-29T05:09:37.019520Z",
     "iopub.status.idle": "2025-01-29T05:09:37.238056Z",
     "shell.execute_reply": "2025-01-29T05:09:37.237049Z"
    },
    "papermill": {
     "duration": 0.236844,
     "end_time": "2025-01-29T05:09:37.240385",
     "exception": false,
     "start_time": "2025-01-29T05:09:37.003541",
     "status": "completed"
    },
    "tags": []
   },
   "outputs": [],
   "source": [
    "kernel = np.ones((3,3),np.uint8)\n",
    "opening = cv.morphologyEx(thresh,cv.MORPH_OPEN,kernel)\n",
    "plt.imshow(opening)\n",
    "# noise removal, this is kinda useless here cos thresh seems to have done the job well enough"
   ]
  },
  {
   "cell_type": "code",
   "execution_count": null,
   "id": "eccfa480",
   "metadata": {
    "execution": {
     "iopub.execute_input": "2025-01-29T05:09:37.273219Z",
     "iopub.status.busy": "2025-01-29T05:09:37.272851Z",
     "iopub.status.idle": "2025-01-29T05:09:37.479771Z",
     "shell.execute_reply": "2025-01-29T05:09:37.478719Z"
    },
    "papermill": {
     "duration": 0.22535,
     "end_time": "2025-01-29T05:09:37.481618",
     "exception": false,
     "start_time": "2025-01-29T05:09:37.256268",
     "status": "completed"
    },
    "tags": []
   },
   "outputs": [],
   "source": [
    "kernel = np.ones((3,3),np.uint8)\n",
    "opening_grad = cv.morphologyEx(thresh,cv.MORPH_GRADIENT,kernel,iterations= 1)\n",
    "plt.imshow(opening_grad)\n",
    "# difference between erosion and dilation -> gives the outline"
   ]
  },
  {
   "cell_type": "code",
   "execution_count": null,
   "id": "b8789e5a",
   "metadata": {
    "execution": {
     "iopub.execute_input": "2025-01-29T05:09:37.513656Z",
     "iopub.status.busy": "2025-01-29T05:09:37.512872Z",
     "iopub.status.idle": "2025-01-29T05:09:37.718229Z",
     "shell.execute_reply": "2025-01-29T05:09:37.717272Z"
    },
    "papermill": {
     "duration": 0.223915,
     "end_time": "2025-01-29T05:09:37.720485",
     "exception": false,
     "start_time": "2025-01-29T05:09:37.496570",
     "status": "completed"
    },
    "tags": []
   },
   "outputs": [],
   "source": [
    "sure_bg = cv.dilate(opening, kernel, iterations=3)\n",
    "plt.imshow(sure_bg)"
   ]
  },
  {
   "cell_type": "code",
   "execution_count": null,
   "id": "49a7d053",
   "metadata": {
    "execution": {
     "iopub.execute_input": "2025-01-29T05:09:37.753297Z",
     "iopub.status.busy": "2025-01-29T05:09:37.752971Z",
     "iopub.status.idle": "2025-01-29T05:09:37.960953Z",
     "shell.execute_reply": "2025-01-29T05:09:37.959799Z"
    },
    "papermill": {
     "duration": 0.226762,
     "end_time": "2025-01-29T05:09:37.963212",
     "exception": false,
     "start_time": "2025-01-29T05:09:37.736450",
     "status": "completed"
    },
    "tags": []
   },
   "outputs": [],
   "source": [
    "\n",
    "dist_transform = cv.distanceTransform(opening,cv.DIST_L2,5)\n",
    "dist_transform = cv.normalize(dist_transform, None, 0, 1.0, cv.NORM_MINMAX)\n",
    "\n",
    "ret, sure_fg = cv.threshold(dist_transform, 0.6 * dist_transform.max(), 255, 0)\n",
    "plt.imshow(sure_fg)\n"
   ]
  },
  {
   "cell_type": "code",
   "execution_count": null,
   "id": "d0b92ded",
   "metadata": {
    "execution": {
     "iopub.execute_input": "2025-01-29T05:09:37.997794Z",
     "iopub.status.busy": "2025-01-29T05:09:37.997388Z",
     "iopub.status.idle": "2025-01-29T05:09:38.009497Z",
     "shell.execute_reply": "2025-01-29T05:09:38.008605Z"
    },
    "papermill": {
     "duration": 0.031953,
     "end_time": "2025-01-29T05:09:38.011806",
     "exception": false,
     "start_time": "2025-01-29T05:09:37.979853",
     "status": "completed"
    },
    "tags": []
   },
   "outputs": [],
   "source": [
    "sure_fg = np.uint8(sure_fg)\n",
    "ret, markers = cv.connectedComponents(sure_fg)\n",
    "\n"
   ]
  },
  {
   "cell_type": "code",
   "execution_count": null,
   "id": "34311740",
   "metadata": {
    "execution": {
     "iopub.execute_input": "2025-01-29T05:09:38.045586Z",
     "iopub.status.busy": "2025-01-29T05:09:38.045217Z",
     "iopub.status.idle": "2025-01-29T05:09:38.250012Z",
     "shell.execute_reply": "2025-01-29T05:09:38.248920Z"
    },
    "papermill": {
     "duration": 0.224607,
     "end_time": "2025-01-29T05:09:38.252255",
     "exception": false,
     "start_time": "2025-01-29T05:09:38.027648",
     "status": "completed"
    },
    "tags": []
   },
   "outputs": [],
   "source": [
    "plt.imshow(markers)"
   ]
  },
  {
   "cell_type": "code",
   "execution_count": null,
   "id": "bb17d1bb",
   "metadata": {
    "execution": {
     "iopub.execute_input": "2025-01-29T05:09:38.287013Z",
     "iopub.status.busy": "2025-01-29T05:09:38.286622Z",
     "iopub.status.idle": "2025-01-29T05:09:38.554549Z",
     "shell.execute_reply": "2025-01-29T05:09:38.553547Z"
    },
    "papermill": {
     "duration": 0.287407,
     "end_time": "2025-01-29T05:09:38.556550",
     "exception": false,
     "start_time": "2025-01-29T05:09:38.269143",
     "status": "completed"
    },
    "tags": []
   },
   "outputs": [],
   "source": [
    "markers += 1\n",
    "plt.imshow(markers)"
   ]
  },
  {
   "cell_type": "code",
   "execution_count": null,
   "id": "1798ccc2",
   "metadata": {
    "execution": {
     "iopub.execute_input": "2025-01-29T05:09:38.593208Z",
     "iopub.status.busy": "2025-01-29T05:09:38.592866Z",
     "iopub.status.idle": "2025-01-29T05:09:38.795645Z",
     "shell.execute_reply": "2025-01-29T05:09:38.794676Z"
    },
    "papermill": {
     "duration": 0.224732,
     "end_time": "2025-01-29T05:09:38.797851",
     "exception": false,
     "start_time": "2025-01-29T05:09:38.573119",
     "status": "completed"
    },
    "tags": []
   },
   "outputs": [],
   "source": [
    "unknown = cv.subtract(sure_bg, sure_fg)\n",
    "markers[unknown==255] = 0\n",
    "plt.imshow(markers)"
   ]
  },
  {
   "cell_type": "code",
   "execution_count": null,
   "id": "c96a157c",
   "metadata": {
    "execution": {
     "iopub.execute_input": "2025-01-29T05:09:38.832532Z",
     "iopub.status.busy": "2025-01-29T05:09:38.832214Z",
     "iopub.status.idle": "2025-01-29T05:09:39.018487Z",
     "shell.execute_reply": "2025-01-29T05:09:39.017441Z"
    },
    "papermill": {
     "duration": 0.206138,
     "end_time": "2025-01-29T05:09:39.020544",
     "exception": false,
     "start_time": "2025-01-29T05:09:38.814406",
     "status": "completed"
    },
    "tags": []
   },
   "outputs": [],
   "source": [
    "markers = cv.watershed(img,markers)\n",
    "img[markers == -1] = [255,0,0]\n",
    "\n",
    "plt.imshow( img)"
   ]
  },
  {
   "cell_type": "code",
   "execution_count": null,
   "id": "e198c000",
   "metadata": {
    "execution": {
     "iopub.execute_input": "2025-01-29T05:09:39.058196Z",
     "iopub.status.busy": "2025-01-29T05:09:39.057377Z",
     "iopub.status.idle": "2025-01-29T05:09:39.064470Z",
     "shell.execute_reply": "2025-01-29T05:09:39.063379Z"
    },
    "papermill": {
     "duration": 0.028397,
     "end_time": "2025-01-29T05:09:39.066655",
     "exception": false,
     "start_time": "2025-01-29T05:09:39.038258",
     "status": "completed"
    },
    "tags": []
   },
   "outputs": [],
   "source": [
    "def measure_ships(markers, image):\n",
    "    # Initialize a list to store ship dimensions\n",
    "    ship_dimensions = []\n",
    "    for marker in np.unique(markers):\n",
    "        if marker == -1 or marker == 1:\n",
    "            continue\n",
    "        mask = np.zeros_like(image, dtype=np.uint8)\n",
    "        mask[markers == marker] = 255\n",
    "        contours, _ = cv.findContours(mask, cv.RETR_EXTERNAL, cv.CHAIN_APPROX_SIMPLE)\n",
    "        for contour in contours:\n",
    "            x, y, w, h = cv.boundingRect(contour)\n",
    "            length = max(w, h)\n",
    "            width = min(w, h)\n",
    "            ship_dimensions.append((length, width))\n",
    "    return ship_dimensions\n",
    "\n",
    "\n",
    " "
   ]
  },
  {
   "cell_type": "code",
   "execution_count": null,
   "id": "3f5e880a",
   "metadata": {
    "execution": {
     "iopub.execute_input": "2025-01-29T05:09:39.103834Z",
     "iopub.status.busy": "2025-01-29T05:09:39.103319Z",
     "iopub.status.idle": "2025-01-29T05:09:39.370244Z",
     "shell.execute_reply": "2025-01-29T05:09:39.369247Z"
    },
    "papermill": {
     "duration": 0.287912,
     "end_time": "2025-01-29T05:09:39.372275",
     "exception": false,
     "start_time": "2025-01-29T05:09:39.084363",
     "status": "completed"
    },
    "tags": []
   },
   "outputs": [],
   "source": [
    "_, mask = cv.threshold(imggray, 127, 255, cv.THRESH_BINARY)\n",
    "plt.imshow(mask)"
   ]
  },
  {
   "cell_type": "code",
   "execution_count": null,
   "id": "52adbfef",
   "metadata": {
    "execution": {
     "iopub.execute_input": "2025-01-29T05:09:39.409229Z",
     "iopub.status.busy": "2025-01-29T05:09:39.408868Z",
     "iopub.status.idle": "2025-01-29T05:09:39.418562Z",
     "shell.execute_reply": "2025-01-29T05:09:39.417480Z"
    },
    "papermill": {
     "duration": 0.031241,
     "end_time": "2025-01-29T05:09:39.420820",
     "exception": false,
     "start_time": "2025-01-29T05:09:39.389579",
     "status": "completed"
    },
    "tags": []
   },
   "outputs": [],
   "source": [
    "contours, _ = cv.findContours(mask, cv.RETR_EXTERNAL, cv.CHAIN_APPROX_SIMPLE)\n",
    "# print(contours)"
   ]
  },
  {
   "cell_type": "code",
   "execution_count": null,
   "id": "e7c6b9a1",
   "metadata": {
    "execution": {
     "iopub.execute_input": "2025-01-29T05:09:39.457713Z",
     "iopub.status.busy": "2025-01-29T05:09:39.457311Z",
     "iopub.status.idle": "2025-01-29T05:09:39.466670Z",
     "shell.execute_reply": "2025-01-29T05:09:39.465775Z"
    },
    "papermill": {
     "duration": 0.030491,
     "end_time": "2025-01-29T05:09:39.468670",
     "exception": false,
     "start_time": "2025-01-29T05:09:39.438179",
     "status": "completed"
    },
    "tags": []
   },
   "outputs": [],
   "source": [
    "ship_dimensions = []\n",
    "for c in contours:\n",
    "        x, y, w, h = cv.boundingRect(c)\n",
    "        length= max(w,h)\n",
    "        width = min(w,h)\n",
    "        ship_dimensions.append((length, width))\n",
    "ship_dimensions\n",
    "\n",
    "            \n",
    "        \n",
    "           "
   ]
  },
  {
   "cell_type": "code",
   "execution_count": null,
   "id": "bda219d5",
   "metadata": {
    "papermill": {
     "duration": 0.017505,
     "end_time": "2025-01-29T05:09:39.504139",
     "exception": false,
     "start_time": "2025-01-29T05:09:39.486634",
     "status": "completed"
    },
    "tags": []
   },
   "outputs": [],
   "source": []
  },
  {
   "cell_type": "markdown",
   "id": "2e44c929",
   "metadata": {
    "papermill": {
     "duration": 0.017563,
     "end_time": "2025-01-29T05:09:39.539447",
     "exception": false,
     "start_time": "2025-01-29T05:09:39.521884",
     "status": "completed"
    },
    "tags": []
   },
   "source": [
    "# functions"
   ]
  },
  {
   "cell_type": "code",
   "execution_count": null,
   "id": "9807283c",
   "metadata": {
    "execution": {
     "iopub.execute_input": "2025-01-29T05:09:39.575970Z",
     "iopub.status.busy": "2025-01-29T05:09:39.575569Z",
     "iopub.status.idle": "2025-01-29T05:09:39.583799Z",
     "shell.execute_reply": "2025-01-29T05:09:39.582752Z"
    },
    "papermill": {
     "duration": 0.028687,
     "end_time": "2025-01-29T05:09:39.585709",
     "exception": false,
     "start_time": "2025-01-29T05:09:39.557022",
     "status": "completed"
    },
    "tags": []
   },
   "outputs": [],
   "source": [
    "def apply_watershed(image):\n",
    "    # Convert the image to grayscale\n",
    "    gray = cv.cvtColor(image, cv.COLOR_RGB2GRAY)\n",
    "    # Convert the image to binary using Otsu's thresholding\n",
    "    _, binary = cv.threshold(gray, 0, 255, cv.THRESH_BINARY + cv.THRESH_OTSU)\n",
    "    # Perform distance transform\n",
    "    dist_transform = cv.distanceTransform(binary, cv.DIST_L2, 5)\n",
    "    # Normalize the distance image\n",
    "    dist_transform = cv.normalize(dist_transform, None, 0, 1.0, cv.NORM_MINMAX)\n",
    "    # Threshold the distance image\n",
    "    _, sure_fg = cv.threshold(dist_transform, 0.5 * dist_transform.max(), 255, 0)\n",
    "    sure_fg = np.uint8(sure_fg)\n",
    "    unknown = cv.subtract(binary, sure_fg)\n",
    "    # Label the foreground objects\n",
    "    _, markers = cv.connectedComponents(sure_fg)\n",
    "    markers = markers + 1\n",
    "    markers[unknown == 255] = 0\n",
    "    # Apply the Watershed algorithm\n",
    "    markers = cv.watershed(image, markers)\n",
    "    return markers\n",
    "\n",
    " "
   ]
  },
  {
   "cell_type": "code",
   "execution_count": null,
   "id": "2f00bcc9",
   "metadata": {
    "execution": {
     "iopub.execute_input": "2025-01-29T05:09:39.623141Z",
     "iopub.status.busy": "2025-01-29T05:09:39.622775Z",
     "iopub.status.idle": "2025-01-29T05:09:39.634067Z",
     "shell.execute_reply": "2025-01-29T05:09:39.633180Z"
    },
    "papermill": {
     "duration": 0.03245,
     "end_time": "2025-01-29T05:09:39.636188",
     "exception": false,
     "start_time": "2025-01-29T05:09:39.603738",
     "status": "completed"
    },
    "tags": []
   },
   "outputs": [],
   "source": [
    "def measure_ships(markers):\n",
    "    # Initialize a list to store ship dimensions\n",
    "    ship_dimensions = []\n",
    "    for marker in np.unique(markers):\n",
    "        if marker == -1 or marker == 1:\n",
    "            continue\n",
    "        mask = np.zeros_like(markers, dtype=np.uint8)\n",
    "        mask[markers == marker] = 255\n",
    "        contours, _ = cv.findContours(mask, cv.RETR_EXTERNAL, cv.CHAIN_APPROX_SIMPLE)\n",
    "        for contour in contours:\n",
    "            x, y, w, h = cv.boundingRect(contour)\n",
    "            length = max(w, h)\n",
    "            width = min(w, h)\n",
    "            ship_dimensions.append((length, width))\n",
    "    return ship_dimensions\n",
    "\n",
    "\n",
    "measure_ships(apply_watershed(img))"
   ]
  },
  {
   "cell_type": "code",
   "execution_count": null,
   "id": "8fedadc6",
   "metadata": {
    "execution": {
     "iopub.execute_input": "2025-01-29T05:09:39.674642Z",
     "iopub.status.busy": "2025-01-29T05:09:39.673915Z",
     "iopub.status.idle": "2025-01-29T05:09:54.873818Z",
     "shell.execute_reply": "2025-01-29T05:09:54.872492Z"
    },
    "papermill": {
     "duration": 15.222572,
     "end_time": "2025-01-29T05:09:54.876358",
     "exception": false,
     "start_time": "2025-01-29T05:09:39.653786",
     "status": "completed"
    },
    "tags": []
   },
   "outputs": [],
   "source": [
    "import json\n",
    "import numpy as np\n",
    "from PIL import Image\n",
    "import matplotlib.pyplot as plt\n",
    "\n",
    "# Load the JSON file\n",
    "with open('/kaggle/input/ships-in-satellite-imagery/shipsnet.json') as f:\n",
    "    dataset = json.load(f)\n",
    "\n",
    "data = np.array(dataset['data'])\n",
    "labels = np.array(dataset['labels'])\n",
    "scene_ids = np.array(dataset['scene_ids'])\n",
    "locations = np.array(dataset['locations'])\n",
    "\n",
    "\n"
   ]
  },
  {
   "cell_type": "code",
   "execution_count": null,
   "id": "5c4040f0",
   "metadata": {
    "execution": {
     "iopub.execute_input": "2025-01-29T05:09:54.913918Z",
     "iopub.status.busy": "2025-01-29T05:09:54.913150Z",
     "iopub.status.idle": "2025-01-29T05:09:54.918326Z",
     "shell.execute_reply": "2025-01-29T05:09:54.917350Z"
    },
    "papermill": {
     "duration": 0.02598,
     "end_time": "2025-01-29T05:09:54.920122",
     "exception": false,
     "start_time": "2025-01-29T05:09:54.894142",
     "status": "completed"
    },
    "tags": []
   },
   "outputs": [],
   "source": [
    "def preprocess_image(image):\n",
    "    # Convert the image to grayscale\n",
    "    gray = cv.cvtColor(image, cv.COLOR_RGB2GRAY)\n",
    "    # Apply Gaussian Blur to reduce noise and improve contour detection\n",
    "    blurred = cv.GaussianBlur(gray, (5, 5), 0)\n",
    "    return blurred"
   ]
  },
  {
   "cell_type": "code",
   "execution_count": null,
   "id": "c7c2010b",
   "metadata": {
    "execution": {
     "iopub.execute_input": "2025-01-29T05:09:54.957010Z",
     "iopub.status.busy": "2025-01-29T05:09:54.956243Z",
     "iopub.status.idle": "2025-01-29T05:09:54.962023Z",
     "shell.execute_reply": "2025-01-29T05:09:54.960977Z"
    },
    "papermill": {
     "duration": 0.026402,
     "end_time": "2025-01-29T05:09:54.963907",
     "exception": false,
     "start_time": "2025-01-29T05:09:54.937505",
     "status": "completed"
    },
    "tags": []
   },
   "outputs": [],
   "source": [
    "def classify_ships(ship_dimensions):\n",
    "    classifications = []\n",
    "    for length, width in ship_dimensions:\n",
    "        if length < 20:\n",
    "            classification = 'A'\n",
    "        elif length < 40:\n",
    "            classification = 'B'\n",
    "        elif length < 60:\n",
    "            classification = 'C'\n",
    "        else:\n",
    "            classification = 'D'\n",
    "        classifications.append(classification)\n",
    "    return classifications\n"
   ]
  },
  {
   "cell_type": "code",
   "execution_count": null,
   "id": "8768aa1f",
   "metadata": {
    "execution": {
     "iopub.execute_input": "2025-01-29T05:09:55.001144Z",
     "iopub.status.busy": "2025-01-29T05:09:55.000506Z",
     "iopub.status.idle": "2025-01-29T05:09:55.702831Z",
     "shell.execute_reply": "2025-01-29T05:09:55.701481Z"
    },
    "papermill": {
     "duration": 0.723005,
     "end_time": "2025-01-29T05:09:55.704674",
     "exception": true,
     "start_time": "2025-01-29T05:09:54.981669",
     "status": "failed"
    },
    "tags": []
   },
   "outputs": [],
   "source": [
    "images = images.astype(np.uint8)\n"
   ]
  },
  {
   "cell_type": "code",
   "execution_count": null,
   "id": "1c78c0b7",
   "metadata": {
    "execution": {
     "iopub.execute_input": "2024-06-28T07:52:20.774558Z",
     "iopub.status.busy": "2024-06-28T07:52:20.773845Z",
     "iopub.status.idle": "2024-06-28T07:52:20.817518Z",
     "shell.execute_reply": "2024-06-28T07:52:20.816086Z",
     "shell.execute_reply.started": "2024-06-28T07:52:20.774526Z"
    },
    "papermill": {
     "duration": null,
     "end_time": null,
     "exception": null,
     "start_time": null,
     "status": "pending"
    },
    "tags": []
   },
   "outputs": [],
   "source": []
  },
  {
   "cell_type": "code",
   "execution_count": null,
   "id": "d118e7ee",
   "metadata": {
    "execution": {
     "iopub.execute_input": "2024-06-28T07:55:05.149627Z",
     "iopub.status.busy": "2024-06-28T07:55:05.148745Z",
     "iopub.status.idle": "2024-06-28T07:55:05.157242Z",
     "shell.execute_reply": "2024-06-28T07:55:05.15626Z",
     "shell.execute_reply.started": "2024-06-28T07:55:05.149592Z"
    },
    "papermill": {
     "duration": null,
     "end_time": null,
     "exception": null,
     "start_time": null,
     "status": "pending"
    },
    "tags": []
   },
   "outputs": [],
   "source": [
    "import numpy as np\n",
    "\n",
    "def reshape_to_rgb(data):\n",
    "    \"\"\"\n",
    "    Reshapes a list of 19200 integers representing an 80x80 RGB image\n",
    "    into a 3D numpy array with shape (80, 80, 3).\n",
    "\n",
    "    Parameters:\n",
    "    data (list of int): The list of 19200 integers representing the image.\n",
    "\n",
    "    Returns:\n",
    "    np.ndarray: A 3D numpy array representing the RGB image.\n",
    "    \"\"\"\n",
    "    if len(data) != 19200:\n",
    "        raise ValueError(\"The input data must be a list of 19200 integers.\")\n",
    "\n",
    "    # Number of pixels in each channel\n",
    "    num_pixels = 80 * 80\n",
    "\n",
    "    # Separate the channels\n",
    "    red_channel = data[:num_pixels]\n",
    "    green_channel = data[num_pixels:2*num_pixels]\n",
    "    blue_channel = data[2*num_pixels:]\n",
    "\n",
    "    # Reshape each channel to 80x80\n",
    "    red_channel = np.array(red_channel).reshape((80, 80))\n",
    "    green_channel = np.array(green_channel).reshape((80, 80))\n",
    "    blue_channel = np.array(blue_channel).reshape((80, 80))\n",
    "\n",
    "    # Stack the channels to get the final image\n",
    "    image = np.stack((red_channel, green_channel, blue_channel), axis=-1)\n",
    "\n",
    "    return image\n",
    "\n",
    "# Assuming data is a list of lists, where each inner list is of length 19200\n",
    "# data = [your_data_list1, your_data_list2, ...]  # Replace with your actual data lists\n",
    "\n"
   ]
  },
  {
   "cell_type": "code",
   "execution_count": null,
   "id": "03fee9fe",
   "metadata": {
    "execution": {
     "iopub.execute_input": "2024-06-28T07:55:06.794026Z",
     "iopub.status.busy": "2024-06-28T07:55:06.793378Z",
     "iopub.status.idle": "2024-06-28T07:55:06.801871Z",
     "shell.execute_reply": "2024-06-28T07:55:06.800909Z",
     "shell.execute_reply.started": "2024-06-28T07:55:06.793976Z"
    },
    "papermill": {
     "duration": null,
     "end_time": null,
     "exception": null,
     "start_time": null,
     "status": "pending"
    },
    "tags": []
   },
   "outputs": [],
   "source": [
    "# Reshape each element in the data list if necessary\n",
    "for i in range(len(data)):\n",
    "    if isinstance(data[i], list) and len(data[i]) == 19200:\n",
    "        data[i] = reshape_to_rgb(data[i])\n",
    "\n",
    "print(data[0].shape)  # Should print (80, 80, 3)\n"
   ]
  },
  {
   "cell_type": "code",
   "execution_count": null,
   "id": "cdf3449b",
   "metadata": {
    "execution": {
     "iopub.execute_input": "2024-06-28T07:52:51.084212Z",
     "iopub.status.busy": "2024-06-28T07:52:51.083833Z",
     "iopub.status.idle": "2024-06-28T07:52:51.090097Z",
     "shell.execute_reply": "2024-06-28T07:52:51.089218Z",
     "shell.execute_reply.started": "2024-06-28T07:52:51.084183Z"
    },
    "papermill": {
     "duration": null,
     "end_time": null,
     "exception": null,
     "start_time": null,
     "status": "pending"
    },
    "tags": []
   },
   "outputs": [],
   "source": [
    "data[0].shape"
   ]
  },
  {
   "cell_type": "code",
   "execution_count": null,
   "id": "a652be3b",
   "metadata": {
    "papermill": {
     "duration": null,
     "end_time": null,
     "exception": null,
     "start_time": null,
     "status": "pending"
    },
    "tags": []
   },
   "outputs": [],
   "source": []
  }
 ],
 "metadata": {
  "kaggle": {
   "accelerator": "none",
   "dataSources": [
    {
     "datasetId": 2869,
     "sourceId": 61115,
     "sourceType": "datasetVersion"
    }
   ],
   "dockerImageVersionId": 30732,
   "isGpuEnabled": false,
   "isInternetEnabled": false,
   "language": "python",
   "sourceType": "notebook"
  },
  "kernelspec": {
   "display_name": "Python 3",
   "language": "python",
   "name": "python3"
  },
  "language_info": {
   "codemirror_mode": {
    "name": "ipython",
    "version": 3
   },
   "file_extension": ".py",
   "mimetype": "text/x-python",
   "name": "python",
   "nbconvert_exporter": "python",
   "pygments_lexer": "ipython3",
   "version": "3.12.7"
  },
  "papermill": {
   "default_parameters": {},
   "duration": 29.197035,
   "end_time": "2025-01-29T05:09:56.845247",
   "environment_variables": {},
   "exception": true,
   "input_path": "__notebook__.ipynb",
   "output_path": "__notebook__.ipynb",
   "parameters": {},
   "start_time": "2025-01-29T05:09:27.648212",
   "version": "2.5.0"
  }
 },
 "nbformat": 4,
 "nbformat_minor": 5
}
